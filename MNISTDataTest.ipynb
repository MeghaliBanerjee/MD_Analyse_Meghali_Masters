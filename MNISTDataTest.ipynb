{
 "cells": [
  {
   "cell_type": "code",
   "execution_count": 1,
   "metadata": {},
   "outputs": [
    {
     "name": "stdout",
     "output_type": "stream",
     "text": [
      "Downloading http://yann.lecun.com/exdb/mnist/train-images-idx3-ubyte.gz\n",
      "Downloading http://yann.lecun.com/exdb/mnist/train-images-idx3-ubyte.gz to ./mnist_data/MNIST\\raw\\train-images-idx3-ubyte.gz\n",
      "Failed to download (trying next):\n",
      "HTTP Error 503: Service Unavailable\n",
      "\n",
      "Downloading https://ossci-datasets.s3.amazonaws.com/mnist/train-images-idx3-ubyte.gz\n",
      "Downloading https://ossci-datasets.s3.amazonaws.com/mnist/train-images-idx3-ubyte.gz to ./mnist_data/MNIST\\raw\\train-images-idx3-ubyte.gz\n"
     ]
    },
    {
     "data": {
      "application/vnd.jupyter.widget-view+json": {
       "model_id": "8fd4de3889ca4b6097156f81ee7e5be5",
       "version_major": 2,
       "version_minor": 0
      },
      "text/plain": [
       "HBox(children=(HTML(value=''), FloatProgress(value=0.0, max=9912422.0), HTML(value='')))"
      ]
     },
     "metadata": {},
     "output_type": "display_data"
    },
    {
     "name": "stdout",
     "output_type": "stream",
     "text": [
      "\n",
      "Extracting ./mnist_data/MNIST\\raw\\train-images-idx3-ubyte.gz to ./mnist_data/MNIST\\raw\n",
      "\n",
      "Downloading http://yann.lecun.com/exdb/mnist/train-labels-idx1-ubyte.gz\n",
      "Downloading http://yann.lecun.com/exdb/mnist/train-labels-idx1-ubyte.gz to ./mnist_data/MNIST\\raw\\train-labels-idx1-ubyte.gz\n"
     ]
    },
    {
     "data": {
      "application/vnd.jupyter.widget-view+json": {
       "model_id": "98edf1c8526249ccb4c17745cb392c56",
       "version_major": 2,
       "version_minor": 0
      },
      "text/plain": [
       "HBox(children=(HTML(value=''), FloatProgress(value=0.0, max=28881.0), HTML(value='')))"
      ]
     },
     "metadata": {},
     "output_type": "display_data"
    },
    {
     "name": "stdout",
     "output_type": "stream",
     "text": [
      "\n",
      "Extracting ./mnist_data/MNIST\\raw\\train-labels-idx1-ubyte.gz to ./mnist_data/MNIST\\raw\n",
      "\n",
      "Downloading http://yann.lecun.com/exdb/mnist/t10k-images-idx3-ubyte.gz\n",
      "Downloading http://yann.lecun.com/exdb/mnist/t10k-images-idx3-ubyte.gz to ./mnist_data/MNIST\\raw\\t10k-images-idx3-ubyte.gz\n",
      "Failed to download (trying next):\n",
      "HTTP Error 503: Service Unavailable\n",
      "\n",
      "Downloading https://ossci-datasets.s3.amazonaws.com/mnist/t10k-images-idx3-ubyte.gz\n",
      "Downloading https://ossci-datasets.s3.amazonaws.com/mnist/t10k-images-idx3-ubyte.gz to ./mnist_data/MNIST\\raw\\t10k-images-idx3-ubyte.gz\n"
     ]
    },
    {
     "data": {
      "application/vnd.jupyter.widget-view+json": {
       "model_id": "d26293ac00d84745b0443170c0c8b79a",
       "version_major": 2,
       "version_minor": 0
      },
      "text/plain": [
       "HBox(children=(HTML(value=''), FloatProgress(value=0.0, max=1648877.0), HTML(value='')))"
      ]
     },
     "metadata": {},
     "output_type": "display_data"
    },
    {
     "name": "stdout",
     "output_type": "stream",
     "text": [
      "\n",
      "Extracting ./mnist_data/MNIST\\raw\\t10k-images-idx3-ubyte.gz to ./mnist_data/MNIST\\raw\n",
      "\n",
      "Downloading http://yann.lecun.com/exdb/mnist/t10k-labels-idx1-ubyte.gz\n",
      "Downloading http://yann.lecun.com/exdb/mnist/t10k-labels-idx1-ubyte.gz to ./mnist_data/MNIST\\raw\\t10k-labels-idx1-ubyte.gz\n"
     ]
    },
    {
     "data": {
      "application/vnd.jupyter.widget-view+json": {
       "model_id": "e1fd40a65e5445e5a279f0f0e484af3c",
       "version_major": 2,
       "version_minor": 0
      },
      "text/plain": [
       "HBox(children=(HTML(value=''), FloatProgress(value=0.0, max=4542.0), HTML(value='')))"
      ]
     },
     "metadata": {},
     "output_type": "display_data"
    },
    {
     "name": "stdout",
     "output_type": "stream",
     "text": [
      "\n",
      "Extracting ./mnist_data/MNIST\\raw\\t10k-labels-idx1-ubyte.gz to ./mnist_data/MNIST\\raw\n",
      "\n",
      "Processing...\n"
     ]
    },
    {
     "name": "stderr",
     "output_type": "stream",
     "text": [
      "C:\\Users\\megha\\anaconda3\\lib\\site-packages\\torchvision\\datasets\\mnist.py:502: UserWarning: The given NumPy array is not writeable, and PyTorch does not support non-writeable tensors. This means you can write to the underlying (supposedly non-writeable) NumPy array using the tensor. You may want to copy the array to protect its data or make it writeable before converting it to a tensor. This type of warning will be suppressed for the rest of this program. (Triggered internally at  ..\\torch\\csrc\\utils\\tensor_numpy.cpp:143.)\n",
      "  return torch.from_numpy(parsed.astype(m[2], copy=False)).view(*s)\n"
     ]
    },
    {
     "name": "stdout",
     "output_type": "stream",
     "text": [
      "Done!\n"
     ]
    }
   ],
   "source": [
    "# prerequisites\n",
    "import torch\n",
    "import torch.nn as nn\n",
    "import torch.nn.functional as F\n",
    "import torch.optim as optim\n",
    "from torchvision import datasets, transforms\n",
    "from torch.autograd import Variable\n",
    "from torchvision.utils import save_image\n",
    "\n",
    "bs = 100\n",
    "# MNIST Dataset\n",
    "train_dataset = datasets.MNIST(root='./mnist_data/', train=True, transform=transforms.ToTensor(), download=True)\n",
    "test_dataset = datasets.MNIST(root='./mnist_data/', train=False, transform=transforms.ToTensor(), download=False)\n",
    "\n",
    "# Data Loader (Input Pipeline)\n",
    "train_loader = torch.utils.data.DataLoader(dataset=train_dataset, batch_size=bs, shuffle=True)\n",
    "test_loader = torch.utils.data.DataLoader(dataset=test_dataset, batch_size=bs, shuffle=False)"
   ]
  },
  {
   "cell_type": "code",
   "execution_count": 2,
   "metadata": {},
   "outputs": [],
   "source": [
    "class VAE(nn.Module):\n",
    "    def __init__(self, x_dim, h_dim1, h_dim2, z_dim):\n",
    "        super(VAE, self).__init__()\n",
    "        \n",
    "        # encoder part\n",
    "        self.fc1 = nn.Linear(x_dim, h_dim1)\n",
    "        self.fc2 = nn.Linear(h_dim1, h_dim2)\n",
    "        self.fc31 = nn.Linear(h_dim2, z_dim)\n",
    "        self.fc32 = nn.Linear(h_dim2, z_dim)\n",
    "        # decoder part\n",
    "        self.fc4 = nn.Linear(z_dim, h_dim2)\n",
    "        self.fc5 = nn.Linear(h_dim2, h_dim1)\n",
    "        self.fc6 = nn.Linear(h_dim1, x_dim)\n",
    "        \n",
    "    def encoder(self, x):\n",
    "        h = F.relu(self.fc1(x))\n",
    "        h = F.relu(self.fc2(h))\n",
    "        return self.fc31(h), self.fc32(h) # mu, log_var\n",
    "    \n",
    "    def sampling(self, mu, log_var):\n",
    "        std = torch.exp(0.5*log_var)\n",
    "        eps = torch.randn_like(std)\n",
    "        return eps.mul(std).add_(mu) # return z sample\n",
    "        \n",
    "    def decoder(self, z):\n",
    "        h = F.relu(self.fc4(z))\n",
    "        h = F.relu(self.fc5(h))\n",
    "        return F.sigmoid(self.fc6(h)) \n",
    "    \n",
    "    def forward(self, x):\n",
    "        mu, log_var = self.encoder(x.view(-1, 784))\n",
    "        z = self.sampling(mu, log_var)\n",
    "        return self.decoder(z), mu, log_var"
   ]
  },
  {
   "cell_type": "code",
   "execution_count": 8,
   "metadata": {},
   "outputs": [],
   "source": [
    "# build model\n",
    "vae = VAE(x_dim=784, h_dim1= 512, h_dim2=256, z_dim=2)\n",
    "if torch.cuda.is_available():\n",
    "    vae.cuda()"
   ]
  },
  {
   "cell_type": "code",
   "execution_count": 9,
   "metadata": {},
   "outputs": [
    {
     "data": {
      "text/plain": [
       "VAE(\n",
       "  (fc1): Linear(in_features=784, out_features=512, bias=True)\n",
       "  (fc2): Linear(in_features=512, out_features=256, bias=True)\n",
       "  (fc31): Linear(in_features=256, out_features=2, bias=True)\n",
       "  (fc32): Linear(in_features=256, out_features=2, bias=True)\n",
       "  (fc4): Linear(in_features=2, out_features=256, bias=True)\n",
       "  (fc5): Linear(in_features=256, out_features=512, bias=True)\n",
       "  (fc6): Linear(in_features=512, out_features=784, bias=True)\n",
       ")"
      ]
     },
     "execution_count": 9,
     "metadata": {},
     "output_type": "execute_result"
    }
   ],
   "source": [
    "vae"
   ]
  },
  {
   "cell_type": "code",
   "execution_count": 10,
   "metadata": {},
   "outputs": [],
   "source": [
    "optimizer = optim.Adam(vae.parameters())\n",
    "#kullback liebler divergence: \n",
    "# return reconstruction error + KL divergence losses\n",
    "def loss_function(recon_x, x, mu, log_var):\n",
    "    BCE = F.binary_cross_entropy(recon_x, x.view(-1, 784), reduction='sum')\n",
    "    KLD = -0.5 * torch.sum(1 + log_var - mu.pow(2) - log_var.exp())\n",
    "    return BCE + KLD"
   ]
  },
  {
   "cell_type": "code",
   "execution_count": 14,
   "metadata": {},
   "outputs": [],
   "source": [
    "def train(epoch):\n",
    "    vae.train()\n",
    "    train_loss = 0\n",
    "    for batch_idx, (data, _) in enumerate(train_loader):\n",
    "        #data = data.cuda()\n",
    "        optimizer.zero_grad()\n",
    "        \n",
    "        recon_batch, mu, log_var = vae(data)\n",
    "        loss = loss_function(recon_batch, data, mu, log_var)\n",
    "        \n",
    "        loss.backward()\n",
    "        train_loss += loss.item()\n",
    "        optimizer.step()\n",
    "        \n",
    "        if batch_idx % 100 == 0:\n",
    "            print('Train Epoch: {} [{}/{} ({:.0f}%)]\\tLoss: {:.6f}'.format(\n",
    "                epoch, batch_idx * len(data), len(train_loader.dataset),\n",
    "                100. * batch_idx / len(train_loader), loss.item() / len(data)))\n",
    "    print('====> Epoch: {} Average loss: {:.4f}'.format(epoch, train_loss / len(train_loader.dataset)))"
   ]
  },
  {
   "cell_type": "code",
   "execution_count": 15,
   "metadata": {},
   "outputs": [],
   "source": [
    "def test():\n",
    "    vae.eval()\n",
    "    test_loss= 0\n",
    "    with torch.no_grad():\n",
    "        for data, _ in test_loader:\n",
    "            #data = data.cuda()\n",
    "            recon, mu, log_var = vae(data)\n",
    "            \n",
    "            # sum up batch loss\n",
    "            test_loss += loss_function(recon, data, mu, log_var).item()\n",
    "        \n",
    "    test_loss /= len(test_loader.dataset)\n",
    "    print('====> Test set loss: {:.4f}'.format(test_loss))"
   ]
  },
  {
   "cell_type": "code",
   "execution_count": 16,
   "metadata": {},
   "outputs": [
    {
     "name": "stderr",
     "output_type": "stream",
     "text": [
      "C:\\Users\\megha\\anaconda3\\lib\\site-packages\\torch\\nn\\functional.py:1709: UserWarning: nn.functional.sigmoid is deprecated. Use torch.sigmoid instead.\n",
      "  warnings.warn(\"nn.functional.sigmoid is deprecated. Use torch.sigmoid instead.\")\n"
     ]
    },
    {
     "name": "stdout",
     "output_type": "stream",
     "text": [
      "Train Epoch: 1 [0/60000 (0%)]\tLoss: 546.457930\n",
      "Train Epoch: 1 [10000/60000 (17%)]\tLoss: 192.215918\n",
      "Train Epoch: 1 [20000/60000 (33%)]\tLoss: 168.058242\n",
      "Train Epoch: 1 [30000/60000 (50%)]\tLoss: 165.294043\n",
      "Train Epoch: 1 [40000/60000 (67%)]\tLoss: 158.566318\n",
      "Train Epoch: 1 [50000/60000 (83%)]\tLoss: 164.200605\n",
      "====> Epoch: 1 Average loss: 179.7384\n",
      "====> Test set loss: 163.5262\n",
      "Train Epoch: 2 [0/60000 (0%)]\tLoss: 165.377910\n",
      "Train Epoch: 2 [10000/60000 (17%)]\tLoss: 156.236221\n",
      "Train Epoch: 2 [20000/60000 (33%)]\tLoss: 156.747285\n",
      "Train Epoch: 2 [30000/60000 (50%)]\tLoss: 152.943428\n",
      "Train Epoch: 2 [40000/60000 (67%)]\tLoss: 159.305098\n",
      "Train Epoch: 2 [50000/60000 (83%)]\tLoss: 150.348818\n",
      "====> Epoch: 2 Average loss: 158.4346\n",
      "====> Test set loss: 154.9907\n",
      "Train Epoch: 3 [0/60000 (0%)]\tLoss: 152.372285\n",
      "Train Epoch: 3 [10000/60000 (17%)]\tLoss: 150.205566\n",
      "Train Epoch: 3 [20000/60000 (33%)]\tLoss: 150.766152\n",
      "Train Epoch: 3 [30000/60000 (50%)]\tLoss: 145.502148\n",
      "Train Epoch: 3 [40000/60000 (67%)]\tLoss: 158.109033\n",
      "Train Epoch: 3 [50000/60000 (83%)]\tLoss: 148.145088\n",
      "====> Epoch: 3 Average loss: 152.7265\n",
      "====> Test set loss: 150.6436\n",
      "Train Epoch: 4 [0/60000 (0%)]\tLoss: 146.892012\n",
      "Train Epoch: 4 [10000/60000 (17%)]\tLoss: 152.363818\n",
      "Train Epoch: 4 [20000/60000 (33%)]\tLoss: 142.236943\n",
      "Train Epoch: 4 [30000/60000 (50%)]\tLoss: 141.061895\n",
      "Train Epoch: 4 [40000/60000 (67%)]\tLoss: 152.059629\n",
      "Train Epoch: 4 [50000/60000 (83%)]\tLoss: 147.045615\n",
      "====> Epoch: 4 Average loss: 149.3241\n",
      "====> Test set loss: 148.5946\n",
      "Train Epoch: 5 [0/60000 (0%)]\tLoss: 147.834727\n",
      "Train Epoch: 5 [10000/60000 (17%)]\tLoss: 148.206973\n",
      "Train Epoch: 5 [20000/60000 (33%)]\tLoss: 149.834629\n",
      "Train Epoch: 5 [30000/60000 (50%)]\tLoss: 146.145625\n",
      "Train Epoch: 5 [40000/60000 (67%)]\tLoss: 149.784600\n",
      "Train Epoch: 5 [50000/60000 (83%)]\tLoss: 146.336982\n",
      "====> Epoch: 5 Average loss: 147.1156\n",
      "====> Test set loss: 147.2221\n",
      "Train Epoch: 6 [0/60000 (0%)]\tLoss: 143.123311\n",
      "Train Epoch: 6 [10000/60000 (17%)]\tLoss: 146.856309\n",
      "Train Epoch: 6 [20000/60000 (33%)]\tLoss: 142.605361\n",
      "Train Epoch: 6 [30000/60000 (50%)]\tLoss: 141.563057\n",
      "Train Epoch: 6 [40000/60000 (67%)]\tLoss: 140.301113\n",
      "Train Epoch: 6 [50000/60000 (83%)]\tLoss: 148.754072\n",
      "====> Epoch: 6 Average loss: 145.5571\n",
      "====> Test set loss: 145.6982\n",
      "Train Epoch: 7 [0/60000 (0%)]\tLoss: 153.371318\n",
      "Train Epoch: 7 [10000/60000 (17%)]\tLoss: 149.159336\n",
      "Train Epoch: 7 [20000/60000 (33%)]\tLoss: 143.471748\n",
      "Train Epoch: 7 [30000/60000 (50%)]\tLoss: 148.433281\n",
      "Train Epoch: 7 [40000/60000 (67%)]\tLoss: 141.443242\n",
      "Train Epoch: 7 [50000/60000 (83%)]\tLoss: 140.558320\n",
      "====> Epoch: 7 Average loss: 144.4320\n",
      "====> Test set loss: 144.8628\n",
      "Train Epoch: 8 [0/60000 (0%)]\tLoss: 145.601348\n",
      "Train Epoch: 8 [10000/60000 (17%)]\tLoss: 154.022607\n",
      "Train Epoch: 8 [20000/60000 (33%)]\tLoss: 148.693408\n",
      "Train Epoch: 8 [30000/60000 (50%)]\tLoss: 135.516416\n",
      "Train Epoch: 8 [40000/60000 (67%)]\tLoss: 143.692422\n",
      "Train Epoch: 8 [50000/60000 (83%)]\tLoss: 132.816475\n",
      "====> Epoch: 8 Average loss: 143.5854\n",
      "====> Test set loss: 143.8234\n",
      "Train Epoch: 9 [0/60000 (0%)]\tLoss: 142.759668\n",
      "Train Epoch: 9 [10000/60000 (17%)]\tLoss: 135.637393\n",
      "Train Epoch: 9 [20000/60000 (33%)]\tLoss: 135.827285\n",
      "Train Epoch: 9 [30000/60000 (50%)]\tLoss: 135.654629\n",
      "Train Epoch: 9 [40000/60000 (67%)]\tLoss: 144.205596\n",
      "Train Epoch: 9 [50000/60000 (83%)]\tLoss: 139.555723\n",
      "====> Epoch: 9 Average loss: 142.7501\n",
      "====> Test set loss: 143.4191\n",
      "Train Epoch: 10 [0/60000 (0%)]\tLoss: 136.967002\n",
      "Train Epoch: 10 [10000/60000 (17%)]\tLoss: 142.388574\n",
      "Train Epoch: 10 [20000/60000 (33%)]\tLoss: 149.224912\n",
      "Train Epoch: 10 [30000/60000 (50%)]\tLoss: 141.450205\n",
      "Train Epoch: 10 [40000/60000 (67%)]\tLoss: 142.384248\n",
      "Train Epoch: 10 [50000/60000 (83%)]\tLoss: 142.747236\n",
      "====> Epoch: 10 Average loss: 142.2604\n",
      "====> Test set loss: 143.2723\n",
      "Train Epoch: 11 [0/60000 (0%)]\tLoss: 143.991318\n",
      "Train Epoch: 11 [10000/60000 (17%)]\tLoss: 145.583340\n",
      "Train Epoch: 11 [20000/60000 (33%)]\tLoss: 141.085078\n",
      "Train Epoch: 11 [30000/60000 (50%)]\tLoss: 137.210654\n",
      "Train Epoch: 11 [40000/60000 (67%)]\tLoss: 144.412510\n",
      "Train Epoch: 11 [50000/60000 (83%)]\tLoss: 133.520156\n",
      "====> Epoch: 11 Average loss: 141.7512\n",
      "====> Test set loss: 142.4198\n",
      "Train Epoch: 12 [0/60000 (0%)]\tLoss: 138.188281\n",
      "Train Epoch: 12 [10000/60000 (17%)]\tLoss: 141.178594\n",
      "Train Epoch: 12 [20000/60000 (33%)]\tLoss: 137.768555\n",
      "Train Epoch: 12 [30000/60000 (50%)]\tLoss: 148.118115\n",
      "Train Epoch: 12 [40000/60000 (67%)]\tLoss: 145.835684\n",
      "Train Epoch: 12 [50000/60000 (83%)]\tLoss: 130.541045\n",
      "====> Epoch: 12 Average loss: 141.0908\n",
      "====> Test set loss: 142.0973\n",
      "Train Epoch: 13 [0/60000 (0%)]\tLoss: 135.619326\n",
      "Train Epoch: 13 [10000/60000 (17%)]\tLoss: 139.448730\n",
      "Train Epoch: 13 [20000/60000 (33%)]\tLoss: 136.535049\n",
      "Train Epoch: 13 [30000/60000 (50%)]\tLoss: 144.324072\n",
      "Train Epoch: 13 [40000/60000 (67%)]\tLoss: 141.548213\n",
      "Train Epoch: 13 [50000/60000 (83%)]\tLoss: 144.234932\n",
      "====> Epoch: 13 Average loss: 140.7261\n",
      "====> Test set loss: 141.4956\n",
      "Train Epoch: 14 [0/60000 (0%)]\tLoss: 143.134971\n",
      "Train Epoch: 14 [10000/60000 (17%)]\tLoss: 141.635547\n",
      "Train Epoch: 14 [20000/60000 (33%)]\tLoss: 141.791611\n",
      "Train Epoch: 14 [30000/60000 (50%)]\tLoss: 142.196865\n",
      "Train Epoch: 14 [40000/60000 (67%)]\tLoss: 133.812539\n",
      "Train Epoch: 14 [50000/60000 (83%)]\tLoss: 142.215127\n",
      "====> Epoch: 14 Average loss: 140.4094\n",
      "====> Test set loss: 141.7686\n",
      "Train Epoch: 15 [0/60000 (0%)]\tLoss: 138.167266\n",
      "Train Epoch: 15 [10000/60000 (17%)]\tLoss: 135.605488\n",
      "Train Epoch: 15 [20000/60000 (33%)]\tLoss: 135.202578\n",
      "Train Epoch: 15 [30000/60000 (50%)]\tLoss: 134.805605\n",
      "Train Epoch: 15 [40000/60000 (67%)]\tLoss: 136.723350\n",
      "Train Epoch: 15 [50000/60000 (83%)]\tLoss: 141.447607\n",
      "====> Epoch: 15 Average loss: 140.0375\n",
      "====> Test set loss: 140.9081\n",
      "Train Epoch: 16 [0/60000 (0%)]\tLoss: 137.470332\n",
      "Train Epoch: 16 [10000/60000 (17%)]\tLoss: 149.503086\n",
      "Train Epoch: 16 [20000/60000 (33%)]\tLoss: 134.983037\n",
      "Train Epoch: 16 [30000/60000 (50%)]\tLoss: 141.609434\n",
      "Train Epoch: 16 [40000/60000 (67%)]\tLoss: 142.230293\n",
      "Train Epoch: 16 [50000/60000 (83%)]\tLoss: 146.284434\n",
      "====> Epoch: 16 Average loss: 139.7193\n",
      "====> Test set loss: 140.8044\n",
      "Train Epoch: 17 [0/60000 (0%)]\tLoss: 148.603545\n",
      "Train Epoch: 17 [10000/60000 (17%)]\tLoss: 138.278506\n",
      "Train Epoch: 17 [20000/60000 (33%)]\tLoss: 143.058428\n",
      "Train Epoch: 17 [30000/60000 (50%)]\tLoss: 146.607480\n",
      "Train Epoch: 17 [40000/60000 (67%)]\tLoss: 141.370859\n",
      "Train Epoch: 17 [50000/60000 (83%)]\tLoss: 136.272314\n",
      "====> Epoch: 17 Average loss: 139.5900\n",
      "====> Test set loss: 140.9383\n",
      "Train Epoch: 18 [0/60000 (0%)]\tLoss: 135.652080\n",
      "Train Epoch: 18 [10000/60000 (17%)]\tLoss: 125.565303\n",
      "Train Epoch: 18 [20000/60000 (33%)]\tLoss: 138.299648\n",
      "Train Epoch: 18 [30000/60000 (50%)]\tLoss: 135.560137\n",
      "Train Epoch: 18 [40000/60000 (67%)]\tLoss: 136.629023\n",
      "Train Epoch: 18 [50000/60000 (83%)]\tLoss: 137.760811\n",
      "====> Epoch: 18 Average loss: 139.1998\n",
      "====> Test set loss: 140.8622\n",
      "Train Epoch: 19 [0/60000 (0%)]\tLoss: 148.804600\n",
      "Train Epoch: 19 [10000/60000 (17%)]\tLoss: 146.468633\n",
      "Train Epoch: 19 [20000/60000 (33%)]\tLoss: 141.770479\n",
      "Train Epoch: 19 [30000/60000 (50%)]\tLoss: 137.753516\n",
      "Train Epoch: 19 [40000/60000 (67%)]\tLoss: 144.541904\n",
      "Train Epoch: 19 [50000/60000 (83%)]\tLoss: 140.061504\n",
      "====> Epoch: 19 Average loss: 138.7810\n",
      "====> Test set loss: 140.4437\n",
      "Train Epoch: 20 [0/60000 (0%)]\tLoss: 139.663389\n",
      "Train Epoch: 20 [10000/60000 (17%)]\tLoss: 141.958281\n",
      "Train Epoch: 20 [20000/60000 (33%)]\tLoss: 131.438008\n",
      "Train Epoch: 20 [30000/60000 (50%)]\tLoss: 145.095898\n",
      "Train Epoch: 20 [40000/60000 (67%)]\tLoss: 139.574385\n",
      "Train Epoch: 20 [50000/60000 (83%)]\tLoss: 138.802695\n",
      "====> Epoch: 20 Average loss: 138.5031\n",
      "====> Test set loss: 139.9721\n",
      "Train Epoch: 21 [0/60000 (0%)]\tLoss: 135.014961\n",
      "Train Epoch: 21 [10000/60000 (17%)]\tLoss: 147.168154\n",
      "Train Epoch: 21 [20000/60000 (33%)]\tLoss: 141.567266\n",
      "Train Epoch: 21 [30000/60000 (50%)]\tLoss: 138.716396\n",
      "Train Epoch: 21 [40000/60000 (67%)]\tLoss: 137.888545\n",
      "Train Epoch: 21 [50000/60000 (83%)]\tLoss: 134.650527\n",
      "====> Epoch: 21 Average loss: 138.3349\n",
      "====> Test set loss: 140.2349\n",
      "Train Epoch: 22 [0/60000 (0%)]\tLoss: 135.067041\n",
      "Train Epoch: 22 [10000/60000 (17%)]\tLoss: 138.619619\n",
      "Train Epoch: 22 [20000/60000 (33%)]\tLoss: 140.504697\n",
      "Train Epoch: 22 [30000/60000 (50%)]\tLoss: 142.290938\n",
      "Train Epoch: 22 [40000/60000 (67%)]\tLoss: 135.326436\n"
     ]
    },
    {
     "name": "stdout",
     "output_type": "stream",
     "text": [
      "Train Epoch: 22 [50000/60000 (83%)]\tLoss: 145.693975\n",
      "====> Epoch: 22 Average loss: 137.9601\n",
      "====> Test set loss: 140.1020\n",
      "Train Epoch: 23 [0/60000 (0%)]\tLoss: 139.305498\n",
      "Train Epoch: 23 [10000/60000 (17%)]\tLoss: 143.239512\n",
      "Train Epoch: 23 [20000/60000 (33%)]\tLoss: 138.436777\n",
      "Train Epoch: 23 [30000/60000 (50%)]\tLoss: 135.039385\n",
      "Train Epoch: 23 [40000/60000 (67%)]\tLoss: 135.592334\n",
      "Train Epoch: 23 [50000/60000 (83%)]\tLoss: 134.140254\n",
      "====> Epoch: 23 Average loss: 137.9480\n",
      "====> Test set loss: 140.0510\n",
      "Train Epoch: 24 [0/60000 (0%)]\tLoss: 137.378457\n",
      "Train Epoch: 24 [10000/60000 (17%)]\tLoss: 137.692803\n",
      "Train Epoch: 24 [20000/60000 (33%)]\tLoss: 139.527256\n",
      "Train Epoch: 24 [30000/60000 (50%)]\tLoss: 138.810117\n",
      "Train Epoch: 24 [40000/60000 (67%)]\tLoss: 132.932637\n",
      "Train Epoch: 24 [50000/60000 (83%)]\tLoss: 143.631240\n",
      "====> Epoch: 24 Average loss: 137.6502\n",
      "====> Test set loss: 140.1291\n",
      "Train Epoch: 25 [0/60000 (0%)]\tLoss: 132.844619\n",
      "Train Epoch: 25 [10000/60000 (17%)]\tLoss: 143.815762\n",
      "Train Epoch: 25 [20000/60000 (33%)]\tLoss: 140.056777\n",
      "Train Epoch: 25 [30000/60000 (50%)]\tLoss: 142.757744\n",
      "Train Epoch: 25 [40000/60000 (67%)]\tLoss: 151.886445\n",
      "Train Epoch: 25 [50000/60000 (83%)]\tLoss: 139.822227\n",
      "====> Epoch: 25 Average loss: 137.7553\n",
      "====> Test set loss: 139.5067\n",
      "Train Epoch: 26 [0/60000 (0%)]\tLoss: 139.459785\n",
      "Train Epoch: 26 [10000/60000 (17%)]\tLoss: 136.700146\n",
      "Train Epoch: 26 [20000/60000 (33%)]\tLoss: 133.725283\n",
      "Train Epoch: 26 [30000/60000 (50%)]\tLoss: 139.161709\n",
      "Train Epoch: 26 [40000/60000 (67%)]\tLoss: 136.715049\n",
      "Train Epoch: 26 [50000/60000 (83%)]\tLoss: 132.630850\n",
      "====> Epoch: 26 Average loss: 137.2984\n",
      "====> Test set loss: 139.6456\n",
      "Train Epoch: 27 [0/60000 (0%)]\tLoss: 136.805410\n",
      "Train Epoch: 27 [10000/60000 (17%)]\tLoss: 130.919434\n",
      "Train Epoch: 27 [20000/60000 (33%)]\tLoss: 144.521885\n",
      "Train Epoch: 27 [30000/60000 (50%)]\tLoss: 146.886895\n",
      "Train Epoch: 27 [40000/60000 (67%)]\tLoss: 129.135566\n",
      "Train Epoch: 27 [50000/60000 (83%)]\tLoss: 131.073154\n",
      "====> Epoch: 27 Average loss: 137.1389\n",
      "====> Test set loss: 139.6190\n",
      "Train Epoch: 28 [0/60000 (0%)]\tLoss: 139.261816\n",
      "Train Epoch: 28 [10000/60000 (17%)]\tLoss: 140.878896\n",
      "Train Epoch: 28 [20000/60000 (33%)]\tLoss: 134.883750\n",
      "Train Epoch: 28 [30000/60000 (50%)]\tLoss: 145.289375\n",
      "Train Epoch: 28 [40000/60000 (67%)]\tLoss: 138.420996\n",
      "Train Epoch: 28 [50000/60000 (83%)]\tLoss: 132.652939\n",
      "====> Epoch: 28 Average loss: 137.0694\n",
      "====> Test set loss: 139.7227\n",
      "Train Epoch: 29 [0/60000 (0%)]\tLoss: 135.508838\n",
      "Train Epoch: 29 [10000/60000 (17%)]\tLoss: 139.859531\n",
      "Train Epoch: 29 [20000/60000 (33%)]\tLoss: 129.608193\n",
      "Train Epoch: 29 [30000/60000 (50%)]\tLoss: 140.233096\n",
      "Train Epoch: 29 [40000/60000 (67%)]\tLoss: 133.866719\n",
      "Train Epoch: 29 [50000/60000 (83%)]\tLoss: 132.502148\n",
      "====> Epoch: 29 Average loss: 136.9179\n",
      "====> Test set loss: 139.2977\n",
      "Train Epoch: 30 [0/60000 (0%)]\tLoss: 141.727119\n",
      "Train Epoch: 30 [10000/60000 (17%)]\tLoss: 133.114375\n",
      "Train Epoch: 30 [20000/60000 (33%)]\tLoss: 141.602617\n",
      "Train Epoch: 30 [30000/60000 (50%)]\tLoss: 140.315186\n"
     ]
    },
    {
     "ename": "KeyboardInterrupt",
     "evalue": "",
     "output_type": "error",
     "traceback": [
      "\u001b[1;31m---------------------------------------------------------------------------\u001b[0m",
      "\u001b[1;31mKeyboardInterrupt\u001b[0m                         Traceback (most recent call last)",
      "\u001b[1;32m<ipython-input-16-09ec6240fd84>\u001b[0m in \u001b[0;36m<module>\u001b[1;34m\u001b[0m\n\u001b[0;32m      1\u001b[0m \u001b[1;32mfor\u001b[0m \u001b[0mepoch\u001b[0m \u001b[1;32min\u001b[0m \u001b[0mrange\u001b[0m\u001b[1;33m(\u001b[0m\u001b[1;36m1\u001b[0m\u001b[1;33m,\u001b[0m \u001b[1;36m51\u001b[0m\u001b[1;33m)\u001b[0m\u001b[1;33m:\u001b[0m\u001b[1;33m\u001b[0m\u001b[1;33m\u001b[0m\u001b[0m\n\u001b[1;32m----> 2\u001b[1;33m     \u001b[0mtrain\u001b[0m\u001b[1;33m(\u001b[0m\u001b[0mepoch\u001b[0m\u001b[1;33m)\u001b[0m\u001b[1;33m\u001b[0m\u001b[1;33m\u001b[0m\u001b[0m\n\u001b[0m\u001b[0;32m      3\u001b[0m     \u001b[0mtest\u001b[0m\u001b[1;33m(\u001b[0m\u001b[1;33m)\u001b[0m\u001b[1;33m\u001b[0m\u001b[1;33m\u001b[0m\u001b[0m\n",
      "\u001b[1;32m<ipython-input-14-eb9e48d7eb2c>\u001b[0m in \u001b[0;36mtrain\u001b[1;34m(epoch)\u001b[0m\n\u001b[0;32m     11\u001b[0m         \u001b[0mloss\u001b[0m\u001b[1;33m.\u001b[0m\u001b[0mbackward\u001b[0m\u001b[1;33m(\u001b[0m\u001b[1;33m)\u001b[0m\u001b[1;33m\u001b[0m\u001b[1;33m\u001b[0m\u001b[0m\n\u001b[0;32m     12\u001b[0m         \u001b[0mtrain_loss\u001b[0m \u001b[1;33m+=\u001b[0m \u001b[0mloss\u001b[0m\u001b[1;33m.\u001b[0m\u001b[0mitem\u001b[0m\u001b[1;33m(\u001b[0m\u001b[1;33m)\u001b[0m\u001b[1;33m\u001b[0m\u001b[1;33m\u001b[0m\u001b[0m\n\u001b[1;32m---> 13\u001b[1;33m         \u001b[0moptimizer\u001b[0m\u001b[1;33m.\u001b[0m\u001b[0mstep\u001b[0m\u001b[1;33m(\u001b[0m\u001b[1;33m)\u001b[0m\u001b[1;33m\u001b[0m\u001b[1;33m\u001b[0m\u001b[0m\n\u001b[0m\u001b[0;32m     14\u001b[0m \u001b[1;33m\u001b[0m\u001b[0m\n\u001b[0;32m     15\u001b[0m         \u001b[1;32mif\u001b[0m \u001b[0mbatch_idx\u001b[0m \u001b[1;33m%\u001b[0m \u001b[1;36m100\u001b[0m \u001b[1;33m==\u001b[0m \u001b[1;36m0\u001b[0m\u001b[1;33m:\u001b[0m\u001b[1;33m\u001b[0m\u001b[1;33m\u001b[0m\u001b[0m\n",
      "\u001b[1;32m~\\anaconda3\\lib\\site-packages\\torch\\optim\\optimizer.py\u001b[0m in \u001b[0;36mwrapper\u001b[1;34m(*args, **kwargs)\u001b[0m\n\u001b[0;32m     87\u001b[0m                 \u001b[0mprofile_name\u001b[0m \u001b[1;33m=\u001b[0m \u001b[1;34m\"Optimizer.step#{}.step\"\u001b[0m\u001b[1;33m.\u001b[0m\u001b[0mformat\u001b[0m\u001b[1;33m(\u001b[0m\u001b[0mobj\u001b[0m\u001b[1;33m.\u001b[0m\u001b[0m__class__\u001b[0m\u001b[1;33m.\u001b[0m\u001b[0m__name__\u001b[0m\u001b[1;33m)\u001b[0m\u001b[1;33m\u001b[0m\u001b[1;33m\u001b[0m\u001b[0m\n\u001b[0;32m     88\u001b[0m                 \u001b[1;32mwith\u001b[0m \u001b[0mtorch\u001b[0m\u001b[1;33m.\u001b[0m\u001b[0mautograd\u001b[0m\u001b[1;33m.\u001b[0m\u001b[0mprofiler\u001b[0m\u001b[1;33m.\u001b[0m\u001b[0mrecord_function\u001b[0m\u001b[1;33m(\u001b[0m\u001b[0mprofile_name\u001b[0m\u001b[1;33m)\u001b[0m\u001b[1;33m:\u001b[0m\u001b[1;33m\u001b[0m\u001b[1;33m\u001b[0m\u001b[0m\n\u001b[1;32m---> 89\u001b[1;33m                     \u001b[1;32mreturn\u001b[0m \u001b[0mfunc\u001b[0m\u001b[1;33m(\u001b[0m\u001b[1;33m*\u001b[0m\u001b[0margs\u001b[0m\u001b[1;33m,\u001b[0m \u001b[1;33m**\u001b[0m\u001b[0mkwargs\u001b[0m\u001b[1;33m)\u001b[0m\u001b[1;33m\u001b[0m\u001b[1;33m\u001b[0m\u001b[0m\n\u001b[0m\u001b[0;32m     90\u001b[0m             \u001b[1;32mreturn\u001b[0m \u001b[0mwrapper\u001b[0m\u001b[1;33m\u001b[0m\u001b[1;33m\u001b[0m\u001b[0m\n\u001b[0;32m     91\u001b[0m \u001b[1;33m\u001b[0m\u001b[0m\n",
      "\u001b[1;32m~\\anaconda3\\lib\\site-packages\\torch\\autograd\\grad_mode.py\u001b[0m in \u001b[0;36mdecorate_context\u001b[1;34m(*args, **kwargs)\u001b[0m\n\u001b[0;32m     25\u001b[0m         \u001b[1;32mdef\u001b[0m \u001b[0mdecorate_context\u001b[0m\u001b[1;33m(\u001b[0m\u001b[1;33m*\u001b[0m\u001b[0margs\u001b[0m\u001b[1;33m,\u001b[0m \u001b[1;33m**\u001b[0m\u001b[0mkwargs\u001b[0m\u001b[1;33m)\u001b[0m\u001b[1;33m:\u001b[0m\u001b[1;33m\u001b[0m\u001b[1;33m\u001b[0m\u001b[0m\n\u001b[0;32m     26\u001b[0m             \u001b[1;32mwith\u001b[0m \u001b[0mself\u001b[0m\u001b[1;33m.\u001b[0m\u001b[0m__class__\u001b[0m\u001b[1;33m(\u001b[0m\u001b[1;33m)\u001b[0m\u001b[1;33m:\u001b[0m\u001b[1;33m\u001b[0m\u001b[1;33m\u001b[0m\u001b[0m\n\u001b[1;32m---> 27\u001b[1;33m                 \u001b[1;32mreturn\u001b[0m \u001b[0mfunc\u001b[0m\u001b[1;33m(\u001b[0m\u001b[1;33m*\u001b[0m\u001b[0margs\u001b[0m\u001b[1;33m,\u001b[0m \u001b[1;33m**\u001b[0m\u001b[0mkwargs\u001b[0m\u001b[1;33m)\u001b[0m\u001b[1;33m\u001b[0m\u001b[1;33m\u001b[0m\u001b[0m\n\u001b[0m\u001b[0;32m     28\u001b[0m         \u001b[1;32mreturn\u001b[0m \u001b[0mcast\u001b[0m\u001b[1;33m(\u001b[0m\u001b[0mF\u001b[0m\u001b[1;33m,\u001b[0m \u001b[0mdecorate_context\u001b[0m\u001b[1;33m)\u001b[0m\u001b[1;33m\u001b[0m\u001b[1;33m\u001b[0m\u001b[0m\n\u001b[0;32m     29\u001b[0m \u001b[1;33m\u001b[0m\u001b[0m\n",
      "\u001b[1;32m~\\anaconda3\\lib\\site-packages\\torch\\optim\\adam.py\u001b[0m in \u001b[0;36mstep\u001b[1;34m(self, closure)\u001b[0m\n\u001b[0;32m    106\u001b[0m \u001b[1;33m\u001b[0m\u001b[0m\n\u001b[0;32m    107\u001b[0m             \u001b[0mbeta1\u001b[0m\u001b[1;33m,\u001b[0m \u001b[0mbeta2\u001b[0m \u001b[1;33m=\u001b[0m \u001b[0mgroup\u001b[0m\u001b[1;33m[\u001b[0m\u001b[1;34m'betas'\u001b[0m\u001b[1;33m]\u001b[0m\u001b[1;33m\u001b[0m\u001b[1;33m\u001b[0m\u001b[0m\n\u001b[1;32m--> 108\u001b[1;33m             F.adam(params_with_grad,\n\u001b[0m\u001b[0;32m    109\u001b[0m                    \u001b[0mgrads\u001b[0m\u001b[1;33m,\u001b[0m\u001b[1;33m\u001b[0m\u001b[1;33m\u001b[0m\u001b[0m\n\u001b[0;32m    110\u001b[0m                    \u001b[0mexp_avgs\u001b[0m\u001b[1;33m,\u001b[0m\u001b[1;33m\u001b[0m\u001b[1;33m\u001b[0m\u001b[0m\n",
      "\u001b[1;32m~\\anaconda3\\lib\\site-packages\\torch\\optim\\_functional.py\u001b[0m in \u001b[0;36madam\u001b[1;34m(params, grads, exp_avgs, exp_avg_sqs, max_exp_avg_sqs, state_steps, amsgrad, beta1, beta2, lr, weight_decay, eps)\u001b[0m\n\u001b[0;32m     90\u001b[0m             \u001b[0mdenom\u001b[0m \u001b[1;33m=\u001b[0m \u001b[1;33m(\u001b[0m\u001b[0mmax_exp_avg_sqs\u001b[0m\u001b[1;33m[\u001b[0m\u001b[0mi\u001b[0m\u001b[1;33m]\u001b[0m\u001b[1;33m.\u001b[0m\u001b[0msqrt\u001b[0m\u001b[1;33m(\u001b[0m\u001b[1;33m)\u001b[0m \u001b[1;33m/\u001b[0m \u001b[0mmath\u001b[0m\u001b[1;33m.\u001b[0m\u001b[0msqrt\u001b[0m\u001b[1;33m(\u001b[0m\u001b[0mbias_correction2\u001b[0m\u001b[1;33m)\u001b[0m\u001b[1;33m)\u001b[0m\u001b[1;33m.\u001b[0m\u001b[0madd_\u001b[0m\u001b[1;33m(\u001b[0m\u001b[0meps\u001b[0m\u001b[1;33m)\u001b[0m\u001b[1;33m\u001b[0m\u001b[1;33m\u001b[0m\u001b[0m\n\u001b[0;32m     91\u001b[0m         \u001b[1;32melse\u001b[0m\u001b[1;33m:\u001b[0m\u001b[1;33m\u001b[0m\u001b[1;33m\u001b[0m\u001b[0m\n\u001b[1;32m---> 92\u001b[1;33m             \u001b[0mdenom\u001b[0m \u001b[1;33m=\u001b[0m \u001b[1;33m(\u001b[0m\u001b[0mexp_avg_sq\u001b[0m\u001b[1;33m.\u001b[0m\u001b[0msqrt\u001b[0m\u001b[1;33m(\u001b[0m\u001b[1;33m)\u001b[0m \u001b[1;33m/\u001b[0m \u001b[0mmath\u001b[0m\u001b[1;33m.\u001b[0m\u001b[0msqrt\u001b[0m\u001b[1;33m(\u001b[0m\u001b[0mbias_correction2\u001b[0m\u001b[1;33m)\u001b[0m\u001b[1;33m)\u001b[0m\u001b[1;33m.\u001b[0m\u001b[0madd_\u001b[0m\u001b[1;33m(\u001b[0m\u001b[0meps\u001b[0m\u001b[1;33m)\u001b[0m\u001b[1;33m\u001b[0m\u001b[1;33m\u001b[0m\u001b[0m\n\u001b[0m\u001b[0;32m     93\u001b[0m \u001b[1;33m\u001b[0m\u001b[0m\n\u001b[0;32m     94\u001b[0m         \u001b[0mstep_size\u001b[0m \u001b[1;33m=\u001b[0m \u001b[0mlr\u001b[0m \u001b[1;33m/\u001b[0m \u001b[0mbias_correction1\u001b[0m\u001b[1;33m\u001b[0m\u001b[1;33m\u001b[0m\u001b[0m\n",
      "\u001b[1;31mKeyboardInterrupt\u001b[0m: "
     ]
    }
   ],
   "source": [
    "for epoch in range(1, 51):\n",
    "    train(epoch)\n",
    "    test()"
   ]
  },
  {
   "cell_type": "code",
   "execution_count": null,
   "metadata": {},
   "outputs": [],
   "source": []
  }
 ],
 "metadata": {
  "kernelspec": {
   "display_name": "Python 3",
   "language": "python",
   "name": "python3"
  },
  "language_info": {
   "codemirror_mode": {
    "name": "ipython",
    "version": 3
   },
   "file_extension": ".py",
   "mimetype": "text/x-python",
   "name": "python",
   "nbconvert_exporter": "python",
   "pygments_lexer": "ipython3",
   "version": "3.8.5"
  }
 },
 "nbformat": 4,
 "nbformat_minor": 4
}
